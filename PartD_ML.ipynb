{
 "cells": [
  {
   "cell_type": "markdown",
   "metadata": {},
   "source": [
    "# Problematic Internet Use | Part D : Severity Prediction using Machine Learning"
   ]
  },
  {
   "cell_type": "markdown",
   "metadata": {},
   "source": [
    "In this part, we will be using Machine Learning techniques such as regression, decision trees, correlation features, etc. to answer the following question:\n",
    "\n",
    "**Can we use HBN instruments to predict a child’s score on the problematic internet use scale, and if so, which features are most informative to the prediction?**"
   ]
  },
  {
   "cell_type": "markdown",
   "metadata": {},
   "source": [
    "## Importing Dependencies"
   ]
  },
  {
   "cell_type": "markdown",
   "metadata": {},
   "source": [
    "We will import all dependencies for this part of the project in the cell below."
   ]
  },
  {
   "cell_type": "code",
   "execution_count": 47,
   "metadata": {},
   "outputs": [],
   "source": [
    "import pandas as pd\n",
    "import numpy as np\n",
    "from statsmodels.miscmodels.ordinal_model import OrderedModel\n",
    "from sklearn.model_selection import train_test_split\n",
    "from sklearn.metrics import classification_report, accuracy_score\n",
    "from sklearn import preprocessing\n",
    "import statsmodels.api as sm \n",
    "from sklearn.ensemble import RandomForestClassifier"
   ]
  },
  {
   "cell_type": "markdown",
   "metadata": {},
   "source": [
    "## Data Preparation"
   ]
  },
  {
   "cell_type": "markdown",
   "metadata": {},
   "source": [
    "Before we can go about training a model and feature importance, we need to prepare the data first. Let's review all of the features that are present within the dataset:\n",
    "\n",
    "| Instrument                         | Field                          | Description                   |\n",
    "|------------------------------------|--------------------------------|-------------------------------|\n",
    "| Identifier | `id` | Participant's ID |\n",
    "| Demographics | `Basic_Demos-Enroll_Season` | Season of enrollment |\n",
    "| Demographics | `Basic_Demos-Age` | Age of participant |\n",
    "| Demographics | `Basic_Demos-Sex` | Sex of participant |\n",
    "| Children's Global Assessment Scale | `CGAS-Season` | Season of participation |\n",
    "| Children's Global Assessment Scale | `CGAS-CGAS_Score` | Children's Global Assessment Scale Score |\n",
    "| Physical Measures | `Physical-Season` | Season of participation |\n",
    "| Physical Measures | `Physical-BMI` | Body Mass Index (kg/m^2) |\n",
    "| Physical Measures | `Physical-Height` | Height (in) |\n",
    "| Physical Measures | `Physical-Weight` | Weight (lbs) |\n",
    "| Physical Measures | `Physical-Waist_Circumference` | Waist circumference (in) |\n",
    "| Physical Measures | `Physical-Diastolic_BP` | Diastolic BP (mmHg) |\n",
    "| Physical Measures | `Physical-HeartRate` | Heart rate (beats/min) |\n",
    "| Physical Measures | `Physical-Systolic_BP` | Systolic BP (mmHg) |\n",
    "| FitnessGram Vitals and Treadmill | `Fitness_Endurance-Season` | Season of participation |\n",
    "| FitnessGram Vitals and Treadmill | `Fitness_Endurance-Max_Stage` | Maximum stage reached |\n",
    "| FitnessGram Vitals and Treadmill | `Fitness_Endurance-Time_Mins` | Exact time completed: Minutes |\n",
    "| FitnessGram Vitals and Treadmill | `Fitness_Endurance-Time_Sec` | Exact time completed: Seconds |\n",
    "| FitnessGram Child | `FGC-Season` | Season of participation |\n",
    "| FitnessGram Child | `FGC-FGC_CU` | Curl up total |\n",
    "| FitnessGram Child | `FGC-FGC_CU_Zone` | Curl up fitness zone |\n",
    "| FitnessGram Child | `FGC-FGC_GSND` | Grip Strength total (non-dominant) |\n",
    "| FitnessGram Child | `FGC-FGC_GSND_Zone` | Grip Strength fitness zone (non-dominant) |\n",
    "| FitnessGram Child | `FGC-FGC_GSD` | Grip Strength total (dominant) |\n",
    "| FitnessGram Child | `FGC-FGC_GSD_Zone` | Grip Strength fitness zone (dominant) |\n",
    "| FitnessGram Child | `FGC-FGC_PU` | Push-up total |\n",
    "| FitnessGram Child | `FGC-FGC_PU_Zone` | Push-up fitness zone |\n",
    "| FitnessGram Child | `FGC-FGC_SRL` | Sit & Reach total (left side) |\n",
    "| FitnessGram Child | `FGC-FGC_SRL_Zone` | Sit & Reach fitness zone (left side) |\n",
    "| FitnessGram Child | `FGC-FGC_SRR` | Sit & Reach total (right side) |\n",
    "| FitnessGram Child | `FGC-FGC_SRR_Zone` | Sit & Reach fitness zone (right side) |\n",
    "| FitnessGram Child | `FGC-FGC_TL` | Trunk lift total |\n",
    "| FitnessGram Child | `FGC-FGC_TL_Zone` | Trunk lift fitness zone |\n",
    "| Bio-electric Impedance Analysis | `BIA-Season` | Season of participation |\n",
    "| Bio-electric Impedance Analysis | `BIA-BIA_Activity_Level_num` | Activity Level |\n",
    "| Bio-electric Impedance Analysis | `BIA-BIA_BMC` | Bone Mineral Content |\n",
    "| Bio-electric Impedance Analysis | `BIA-BIA_BMI` | Body Mass Index |\n",
    "| Bio-electric Impedance Analysis | `BIA-BIA_BMR` | Basal Metabolic Rate |\n",
    "| Bio-electric Impedance Analysis | `BIA-BIA_DEE` | Daily Energy Expenditure |\n",
    "| Bio-electric Impedance Analysis | `BIA-BIA_ECW` | Extracellular Water |\n",
    "| Bio-electric Impedance Analysis | `BIA-BIA_FFM` | Fat Free Mass |\n",
    "| Bio-electric Impedance Analysis | `BIA-BIA_FFMI` | Fat Free Mass Index |\n",
    "| Bio-electric Impedance Analysis | `BIA-BIA_FMI` | Fat Mass Index |\n",
    "| Bio-electric Impedance Analysis | `BIA-BIA_Fat` | Body Fat Percentage |\n",
    "| Bio-electric Impedance Analysis | `BIA-BIA_Frame_num` | Body Frame |\n",
    "| Bio-electric Impedance Analysis | `BIA-BIA_ICW` | Intracellular Water |\n",
    "| Bio-electric Impedance Analysis | `BIA-BIA_LDM` | Lean Dry Mass |\n",
    "| Bio-electric Impedance Analysis | `BIA-BIA_LST` | Lean Soft Tissue |\n",
    "| Bio-electric Impedance Analysis | `BIA-BIA_SMM` | Skeletal Muscle Mass |\n",
    "| Bio-electric Impedance Analysis | `BIA-BIA_TBW` | Total Body Water |\n",
    "| Physical Activity Questionnaire (Adolescents) | `PAQ_A-Season` | Season of participation |\n",
    "| Physical Activity Questionnaire (Adolescents) | `PAQ_A-PAQ_A_Total` | Activity Summary Score (Adolescents) |\n",
    "| Physical Activity Questionnaire (Children) | `PAQ_C-Season` | Season of participation |\n",
    "| Physical Activity Questionnaire (Children) | `PAQ_C-PAQ_C_Total` | Activity Summary Score (Children) |\n",
    "| Parent-Child Internet Addiction Test | `PCIAT-Season` | Season of participation |\n",
    "| Parent-Child Internet Addiction Test | `PCIAT-PCIAT_01` | How often does your child disobey time limits you set for online use? |\n",
    "| Parent-Child Internet Addiction Test | `PCIAT-PCIAT_02` | How often does your child neglect household chores to spend more time online? |\n",
    "| Parent-Child Internet Addiction Test | `PCIAT-PCIAT_03` | How often does your child prefer to spend time online rather than with the rest of your family? |\n",
    "| Parent-Child Internet Addiction Test | `PCIAT-PCIAT_04` | How often does your child form new relationships with fellow online users? |\n",
    "| Parent-Child Internet Addiction Test | `PCIAT-PCIAT_05` | How often do you complain about the amount of time your child spends online? |\n",
    "| Parent-Child Internet Addiction Test | `PCIAT-PCIAT_06` | How often do your child's grades suffer because of the amount of time he or she spends online? |\n",
    "| Parent-Child Internet Addiction Test | `PCIAT-PCIAT_07` | How often does your child check his or her e-mail before doing something else? |\n",
    "| Parent-Child Internet Addiction Test | `PCIAT-PCIAT_08` | How often does your child seem withdrawn from others since discovering the Internet? |\n",
    "| Parent-Child Internet Addiction Test | `PCIAT-PCIAT_09` | How often does your child become defensive or secretive when asked what he or she does online? |\n",
    "| Parent-Child Internet Addiction Test | `PCIAT-PCIAT_10` | How often have you caught your child sneaking online against your wishes? |\n",
    "| Parent-Child Internet Addiction Test | `PCIAT-PCIAT_11` | How often does your child spend time alone in his or her room playing on the computer? |\n",
    "| Parent-Child Internet Addiction Test | `PCIAT-PCIAT_12` | How often does your child receive strange phone calls from new \"online\" friends? |\n",
    "| Parent-Child Internet Addiction Test | `PCIAT-PCIAT_13` | How often does your child snap, yell, or act annoyed if bothered while online? |\n",
    "| Parent-Child Internet Addiction Test | `PCIAT-PCIAT_14` | How often does your child seem more tired and fatigued than he or she did before the Internet came along? |\n",
    "| Parent-Child Internet Addiction Test | `PCIAT-PCIAT_15` | How often does your child seem preoccupied with being back online when off-line? |\n",
    "| Parent-Child Internet Addiction Test | `PCIAT-PCIAT_16` | How often does your child throw tantrums with your interference about how long he or she spends online? |\n",
    "| Parent-Child Internet Addiction Test | `PCIAT-PCIAT_17` | How often does your child choose to spend time online rather than doing once enjoyed hobbies and/or outside interests? |\n",
    "| Parent-Child Internet Addiction Test | `PCIAT-PCIAT_18` | How often does your child become angry or belligerent when your place time limits on how much time he or shes is allowed to spend online? |\n",
    "| Parent-Child Internet Addiction Test | `PCIAT-PCIAT_19` | How often does your child choose to spend more time online than going out with friends? |\n",
    "| Parent-Child Internet Addiction Test | `PCIAT-PCIAT_20` | How often does your child feel depressed, moody, or nervous when off-line which seems to go away once back online? |\n",
    "| Parent-Child Internet Addiction Test | `PCIAT-PCIAT_Total` | Total Score |\n",
    "| Sleep Disturbance Scale | `SDS-Season` | Season of participation |\n",
    "| Sleep Disturbance Scale | `SDS-SDS_Total_Raw` | Total Raw Score |\n",
    "| Sleep Disturbance Scale | `SDS-SDS_Total_T` | Total T-Score |\n",
    "| Internet Use | `PreInt_EduHx-Season` | Season of participation |\n",
    "| Internet Use | `PreInt_EduHx-computerinternet_hoursday` | Hours of using computer/internet |"
   ]
  },
  {
   "cell_type": "markdown",
   "metadata": {},
   "source": [
    "Currently, there are all the `PCIAT` columns that record the fine-grained breakdown of the Parent-Child-Internet-Addiction-Test. Our dependent variable, the Severity Impairment Index (`sii`), is direclty determined by the these features, thus the `PCIAT` columns are dependent variables too and should be removed before proceeding.\n",
    "\n",
    "Furthermore, there are metadata columns such as `id` and a lot of redundant columns as well that provide the same information such as all the season ones (`CGAS-Season`, `FGC-Season`, etc.), so let's remove them too save for the first one, that is `Basic_Demos-Enroll_Season`."
   ]
  },
  {
   "cell_type": "code",
   "execution_count": 2,
   "metadata": {},
   "outputs": [],
   "source": [
    "# Reading in the data\n",
    "df = pd.read_csv('cleaned_data.csv', index_col=False)\n",
    "\n",
    "# Dropping the necessary columns\n",
    "columns_to_drop = [\n",
    "    'id', 'BIA-Season', 'CGAS-Season', 'SDS-Season', 'PCIAT-Season', \n",
    "    'Physical-Season', 'FGC-Season', 'PreInt_EduHx-Season', \n",
    "    'Fitness_Endurance-Season','PAQ_C-Season', \n",
    "    'PCIAT-PCIAT_17', 'PCIAT-PCIAT_16', 'PCIAT-PCIAT_18', \n",
    "    'PCIAT-PCIAT_07', 'PCIAT-PCIAT_13', 'PCIAT-PCIAT_05', \n",
    "    'PCIAT-PCIAT_08', 'PCIAT-PCIAT_15', 'PCIAT-PCIAT_09', \n",
    "    'PCIAT-PCIAT_19', 'PCIAT-PCIAT_12', 'PCIAT-PCIAT_04', \n",
    "    'PCIAT-PCIAT_03', 'PCIAT-PCIAT_06', 'PCIAT-PCIAT_14', \n",
    "    'PCIAT-PCIAT_20', 'PCIAT-PCIAT_01', 'PCIAT-PCIAT_10', \n",
    "    'PCIAT-PCIAT_11', 'PCIAT-PCIAT_02', 'PCIAT-PCIAT_Total'\n",
    "]\n",
    "df = df.drop(columns=columns_to_drop)"
   ]
  },
  {
   "cell_type": "markdown",
   "metadata": {},
   "source": [
    "Let's see how many categorical features we are left with now."
   ]
  },
  {
   "cell_type": "code",
   "execution_count": 25,
   "metadata": {},
   "outputs": [
    {
     "name": "stdout",
     "output_type": "stream",
     "text": [
      "Index(['Basic_Demos-Enroll_Season'], dtype='object')\n"
     ]
    }
   ],
   "source": [
    "print(df.select_dtypes(include=['object']).columns)"
   ]
  },
  {
   "cell_type": "markdown",
   "metadata": {},
   "source": [
    "We need to numerically represent the categorical seasonal feature before we can provide it as input to any machine learning model. For this purpose, we can use One-Hot Encoding, which is a widely used method where each category is converted into a binary (0/1) variable, creating a new column for each category. For example, for `Basic_Demos-Enroll_Season`:\n",
    "\n",
    "| `Basic_Demos-Enroll_Season`   | spring | summer | autumn | winter |\n",
    "|----------|--------|--------|--------|--------|\n",
    "| spring   | 1      | 0      | 0      | 0      |\n",
    "| summer   | 0      | 1      | 0      | 0      |\n",
    "| autumn   | 0      | 0      | 1      | 0      |\n",
    "| winter   | 0      | 0      | 0      | 1      |"
   ]
  },
  {
   "cell_type": "code",
   "execution_count": 3,
   "metadata": {},
   "outputs": [
    {
     "data": {
      "text/html": [
       "<div>\n",
       "<style scoped>\n",
       "    .dataframe tbody tr th:only-of-type {\n",
       "        vertical-align: middle;\n",
       "    }\n",
       "\n",
       "    .dataframe tbody tr th {\n",
       "        vertical-align: top;\n",
       "    }\n",
       "\n",
       "    .dataframe thead th {\n",
       "        text-align: right;\n",
       "    }\n",
       "</style>\n",
       "<table border=\"1\" class=\"dataframe\">\n",
       "  <thead>\n",
       "    <tr style=\"text-align: right;\">\n",
       "      <th></th>\n",
       "      <th>Basic_Demos-Age</th>\n",
       "      <th>Basic_Demos-Sex</th>\n",
       "      <th>CGAS-CGAS_Score</th>\n",
       "      <th>Physical-BMI</th>\n",
       "      <th>Physical-Height</th>\n",
       "      <th>Physical-Weight</th>\n",
       "      <th>Physical-Diastolic_BP</th>\n",
       "      <th>Physical-HeartRate</th>\n",
       "      <th>Physical-Systolic_BP</th>\n",
       "      <th>Fitness_Endurance-Max_Stage</th>\n",
       "      <th>...</th>\n",
       "      <th>BIA-BIA_TBW</th>\n",
       "      <th>PAQ_C-PAQ_C_Total</th>\n",
       "      <th>SDS-SDS_Total_Raw</th>\n",
       "      <th>SDS-SDS_Total_T</th>\n",
       "      <th>PreInt_EduHx-computerinternet_hoursday</th>\n",
       "      <th>sii</th>\n",
       "      <th>Basic_Demos-Enroll_Season_Fall</th>\n",
       "      <th>Basic_Demos-Enroll_Season_Spring</th>\n",
       "      <th>Basic_Demos-Enroll_Season_Summer</th>\n",
       "      <th>Basic_Demos-Enroll_Season_Winter</th>\n",
       "    </tr>\n",
       "  </thead>\n",
       "  <tbody>\n",
       "    <tr>\n",
       "      <th>0</th>\n",
       "      <td>5</td>\n",
       "      <td>0</td>\n",
       "      <td>51.0</td>\n",
       "      <td>16.877316</td>\n",
       "      <td>46.0</td>\n",
       "      <td>50.8</td>\n",
       "      <td>68.0</td>\n",
       "      <td>81.0</td>\n",
       "      <td>114.0</td>\n",
       "      <td>5.0</td>\n",
       "      <td>...</td>\n",
       "      <td>32.6909</td>\n",
       "      <td>2.550</td>\n",
       "      <td>39.0</td>\n",
       "      <td>55.0</td>\n",
       "      <td>3.0</td>\n",
       "      <td>2</td>\n",
       "      <td>1</td>\n",
       "      <td>0</td>\n",
       "      <td>0</td>\n",
       "      <td>0</td>\n",
       "    </tr>\n",
       "    <tr>\n",
       "      <th>1</th>\n",
       "      <td>9</td>\n",
       "      <td>0</td>\n",
       "      <td>65.0</td>\n",
       "      <td>14.035590</td>\n",
       "      <td>48.0</td>\n",
       "      <td>46.0</td>\n",
       "      <td>75.0</td>\n",
       "      <td>70.0</td>\n",
       "      <td>122.0</td>\n",
       "      <td>5.0</td>\n",
       "      <td>...</td>\n",
       "      <td>27.0552</td>\n",
       "      <td>2.340</td>\n",
       "      <td>46.0</td>\n",
       "      <td>64.0</td>\n",
       "      <td>0.0</td>\n",
       "      <td>0</td>\n",
       "      <td>0</td>\n",
       "      <td>0</td>\n",
       "      <td>1</td>\n",
       "      <td>0</td>\n",
       "    </tr>\n",
       "    <tr>\n",
       "      <th>2</th>\n",
       "      <td>10</td>\n",
       "      <td>1</td>\n",
       "      <td>71.0</td>\n",
       "      <td>16.648696</td>\n",
       "      <td>56.5</td>\n",
       "      <td>75.6</td>\n",
       "      <td>65.0</td>\n",
       "      <td>94.0</td>\n",
       "      <td>117.0</td>\n",
       "      <td>5.0</td>\n",
       "      <td>...</td>\n",
       "      <td>44.7213</td>\n",
       "      <td>2.170</td>\n",
       "      <td>38.0</td>\n",
       "      <td>54.0</td>\n",
       "      <td>2.0</td>\n",
       "      <td>0</td>\n",
       "      <td>0</td>\n",
       "      <td>0</td>\n",
       "      <td>1</td>\n",
       "      <td>0</td>\n",
       "    </tr>\n",
       "    <tr>\n",
       "      <th>3</th>\n",
       "      <td>9</td>\n",
       "      <td>0</td>\n",
       "      <td>71.0</td>\n",
       "      <td>18.292347</td>\n",
       "      <td>56.0</td>\n",
       "      <td>81.6</td>\n",
       "      <td>60.0</td>\n",
       "      <td>97.0</td>\n",
       "      <td>117.0</td>\n",
       "      <td>6.0</td>\n",
       "      <td>...</td>\n",
       "      <td>45.9966</td>\n",
       "      <td>2.451</td>\n",
       "      <td>31.0</td>\n",
       "      <td>45.0</td>\n",
       "      <td>0.0</td>\n",
       "      <td>1</td>\n",
       "      <td>0</td>\n",
       "      <td>0</td>\n",
       "      <td>0</td>\n",
       "      <td>1</td>\n",
       "    </tr>\n",
       "    <tr>\n",
       "      <th>4</th>\n",
       "      <td>13</td>\n",
       "      <td>1</td>\n",
       "      <td>50.0</td>\n",
       "      <td>22.279952</td>\n",
       "      <td>59.5</td>\n",
       "      <td>112.2</td>\n",
       "      <td>60.0</td>\n",
       "      <td>73.0</td>\n",
       "      <td>102.0</td>\n",
       "      <td>5.0</td>\n",
       "      <td>...</td>\n",
       "      <td>63.1265</td>\n",
       "      <td>4.110</td>\n",
       "      <td>40.0</td>\n",
       "      <td>56.0</td>\n",
       "      <td>0.0</td>\n",
       "      <td>1</td>\n",
       "      <td>0</td>\n",
       "      <td>1</td>\n",
       "      <td>0</td>\n",
       "      <td>0</td>\n",
       "    </tr>\n",
       "  </tbody>\n",
       "</table>\n",
       "<p>5 rows × 49 columns</p>\n",
       "</div>"
      ],
      "text/plain": [
       "   Basic_Demos-Age  Basic_Demos-Sex  CGAS-CGAS_Score  Physical-BMI  \\\n",
       "0                5                0             51.0     16.877316   \n",
       "1                9                0             65.0     14.035590   \n",
       "2               10                1             71.0     16.648696   \n",
       "3                9                0             71.0     18.292347   \n",
       "4               13                1             50.0     22.279952   \n",
       "\n",
       "   Physical-Height  Physical-Weight  Physical-Diastolic_BP  \\\n",
       "0             46.0             50.8                   68.0   \n",
       "1             48.0             46.0                   75.0   \n",
       "2             56.5             75.6                   65.0   \n",
       "3             56.0             81.6                   60.0   \n",
       "4             59.5            112.2                   60.0   \n",
       "\n",
       "   Physical-HeartRate  Physical-Systolic_BP  Fitness_Endurance-Max_Stage  ...  \\\n",
       "0                81.0                 114.0                          5.0  ...   \n",
       "1                70.0                 122.0                          5.0  ...   \n",
       "2                94.0                 117.0                          5.0  ...   \n",
       "3                97.0                 117.0                          6.0  ...   \n",
       "4                73.0                 102.0                          5.0  ...   \n",
       "\n",
       "   BIA-BIA_TBW  PAQ_C-PAQ_C_Total  SDS-SDS_Total_Raw  SDS-SDS_Total_T  \\\n",
       "0      32.6909              2.550               39.0             55.0   \n",
       "1      27.0552              2.340               46.0             64.0   \n",
       "2      44.7213              2.170               38.0             54.0   \n",
       "3      45.9966              2.451               31.0             45.0   \n",
       "4      63.1265              4.110               40.0             56.0   \n",
       "\n",
       "   PreInt_EduHx-computerinternet_hoursday  sii  \\\n",
       "0                                     3.0    2   \n",
       "1                                     0.0    0   \n",
       "2                                     2.0    0   \n",
       "3                                     0.0    1   \n",
       "4                                     0.0    1   \n",
       "\n",
       "   Basic_Demos-Enroll_Season_Fall  Basic_Demos-Enroll_Season_Spring  \\\n",
       "0                               1                                 0   \n",
       "1                               0                                 0   \n",
       "2                               0                                 0   \n",
       "3                               0                                 0   \n",
       "4                               0                                 1   \n",
       "\n",
       "   Basic_Demos-Enroll_Season_Summer  Basic_Demos-Enroll_Season_Winter  \n",
       "0                                 0                                 0  \n",
       "1                                 1                                 0  \n",
       "2                                 1                                 0  \n",
       "3                                 0                                 1  \n",
       "4                                 0                                 0  \n",
       "\n",
       "[5 rows x 49 columns]"
      ]
     },
     "metadata": {},
     "output_type": "display_data"
    }
   ],
   "source": [
    "# One-Hot Encoding\n",
    "df = pd.get_dummies(df, columns=['Basic_Demos-Enroll_Season'], drop_first=False, dtype=int)  # Set drop_first=True to avoid multicollinearity\n",
    "\n",
    "# Preview of the dataset\n",
    "display(df.head())"
   ]
  },
  {
   "cell_type": "markdown",
   "metadata": {},
   "source": [
    "## Ordinal Logistic Regression"
   ]
  },
  {
   "cell_type": "markdown",
   "metadata": {},
   "source": [
    "Let's review `sii` again. The target Variable `sii` is defined as:\n",
    "- 0: None (`PCIAT-PCIAT_Total` from 0 to 30)\n",
    "- 1: Mild (`PCIAT-PCIAT_Total` from 31 to 49)\n",
    "- 2: Moderate (`PCIAT-PCIAT_Total` from 50 to 79)\n",
    "- 3: Severe (`PCIAT-PCIAT_Total` 80 and more)\n",
    "\n",
    "The variable `sii` is categorical, meaning it represents discrete categories rather than continuous numerical values. However, unlike general categorical variables, the values of `sii` — 0, 1, 2, and 3 — have an inherent order. For instance:\n",
    "\n",
    "- A higher value of `sii` (e.g., 3) indicates a greater degree of problematic behaviours compared to a lower value (e.g., 0).\n",
    "- While the ordering exists, the spacing between categories is not necessarily uniform (e.g., the difference between 0 and 1 is not the same as the difference between 1 and 2 in terms of `PCIAT-PCIAT_Total`).\n",
    "\n",
    "This ordinal nature of `sii` makes it distinct from purely nominal variables (like \"red\", \"green\", \"blue\") or continuous variables (like height or temperature), requiring a modeling approach that respects this structure."
   ]
  },
  {
   "cell_type": "markdown",
   "metadata": {},
   "source": [
    "### Why Not Treat This as a Linear Regression Problem?"
   ]
  },
  {
   "cell_type": "markdown",
   "metadata": {},
   "source": [
    "Linear regression models the relationship between independent variables (features) and a continuous dependent variable by fitting a straight line (or hyperplane in higher dimensions). However,\n",
    "\n",
    "- Linear regression assumes the dependent variable has an interval scale, meaning the \"distance\" between categories is uniform. For `sii`, this assumption is not valid because the differences between consecutive categories are not guaranteed to be equal.\n",
    "- Linear regression does not inherently consider the ordering of categories, treating them as arbitrary numerical values.\n",
    "- It also predicts continous values, such as 2.5 instead of 2 or 3, resulting in higher loss values and making it difficult for the model to generalize."
   ]
  },
  {
   "cell_type": "markdown",
   "metadata": {},
   "source": [
    "### Why Not Use Standard Logistic Regression?"
   ]
  },
  {
   "cell_type": "markdown",
   "metadata": {},
   "source": [
    "Logistic regression is a classification technique for binary or multiclass problems. It models the probability of each class as a function of the features using the logistic (sigmoid) function. However,\n",
    "\n",
    "- Multiclass logistic regression treats all categories as distinct and unordered. For example, it sees the relationship between 0 → 1 and 0 → 3 as equivalent, ignoring the natural progression in the ordering.\n",
    "\n",
    "While logistic regression is better suited than linear regression for categorical data, it is not optimal for ordered categorical variables like `sii`."
   ]
  },
  {
   "cell_type": "markdown",
   "metadata": {},
   "source": [
    "### Why Ordinal Logistic Regression is a Good Choice."
   ]
  },
  {
   "cell_type": "markdown",
   "metadata": {},
   "source": [
    "Ordinal logistic regression is a statistical technique specifically designed for ordered categorical dependent variables, making it a natural fit for `sii`. It bridges the gap between logistic regression and linear regression by accounting for both the ordinal nature of the target and the categorical nature of the outcomes.\n",
    "\n",
    "Instead of predicting probabilities for each individual category, ordinal logistic regression models the cumulative probability of `sii` being less than or equal to a given category $j$:\n",
    "\n",
    "$P(sii <= j) = \\Large\\frac{1}{1 \\text{ } + \\text{ } exp(-(\\alpha_j \\text{ } - \\text{ } X.\\beta))}$\n",
    "\n",
    "Where,\n",
    "- $\\alpha_j$​ is the threshold for category jj,\n",
    "- $X$ represents the input features,\n",
    "- $\\beta$ are the model coefficients.\n",
    "\n",
    "The model learns thresholds $\\alpha_1,\\alpha_2,\\alpha_3​,…$ that partition the cumulative probabilities into the respective categories. These thresholds reflect the boundaries between consecutive categories, capturing the ordinal structure.\n",
    "\n",
    "The coefficients $\\beta$ represent the effect of each feature on the latent variable that underlies the ordinal categories of `sii`. The model respects the ordering of the categories while recognizing that the exact distances between them are unknown, while the coefficients can be interpreted in terms of how each feature shifts the likelihood of `sii` falling into higher or lower categories.\n",
    "\n",
    "Overall, Ordinal Logistic Regressions allows us to avoid the pitfalls of linear regression (invalid predictions) and standard logistic regression (loss of ordering information)."
   ]
  },
  {
   "cell_type": "markdown",
   "metadata": {},
   "source": [
    "## Model Fitting, Predictions and Evalaution"
   ]
  },
  {
   "cell_type": "markdown",
   "metadata": {},
   "source": [
    "We shall now fit an ordinal regression model and evalaute its accuracy among other metrics on the test dataset. Given the large size of our dataset, we shall use an 70-30 train-test split."
   ]
  },
  {
   "cell_type": "code",
   "execution_count": 53,
   "metadata": {},
   "outputs": [],
   "source": [
    "# Getting our input and output dataframes/series\n",
    "X = df.drop(columns=['sii'])\n",
    "y = df['sii']\n",
    "\n",
    "# Feature scaling via normalization\n",
    "scaler = preprocessing.StandardScaler()\n",
    "X_scaled = scaler.fit_transform(X)\n",
    "X = pd.DataFrame(X_scaled, columns=X.columns, index=X.index)"
   ]
  },
  {
   "cell_type": "code",
   "execution_count": 57,
   "metadata": {},
   "outputs": [
    {
     "name": "stdout",
     "output_type": "stream",
     "text": [
      "Optimization terminated successfully.\n",
      "         Current function value: 0.861171\n",
      "         Iterations: 124\n",
      "         Function evaluations: 129\n",
      "         Gradient evaluations: 129\n",
      "                             OrderedModel Results                             \n",
      "==============================================================================\n",
      "Dep. Variable:                    sii   Log-Likelihood:                -1648.3\n",
      "Model:                   OrderedModel   AIC:                             3399.\n",
      "Method:            Maximum Likelihood   BIC:                             3682.\n",
      "Date:                Sun, 01 Dec 2024                                         \n",
      "Time:                        06:13:23                                         \n",
      "No. Observations:                1914                                         \n",
      "Df Residuals:                    1863                                         \n",
      "Df Model:                          48                                         \n",
      "==========================================================================================================\n",
      "                                             coef    std err          z      P>|z|      [0.025      0.975]\n",
      "----------------------------------------------------------------------------------------------------------\n",
      "Basic_Demos-Age                            0.2246        nan        nan        nan         nan         nan\n",
      "Basic_Demos-Sex                           -0.2236        nan        nan        nan         nan         nan\n",
      "CGAS-CGAS_Score                           -0.0544        nan        nan        nan         nan         nan\n",
      "Physical-BMI                              -0.0151        nan        nan        nan         nan         nan\n",
      "Physical-Height                            0.2267        nan        nan        nan         nan         nan\n",
      "Physical-Weight                            0.0426        nan        nan        nan         nan         nan\n",
      "Physical-Diastolic_BP                      0.0005        nan        nan        nan         nan         nan\n",
      "Physical-HeartRate                         0.0762        nan        nan        nan         nan         nan\n",
      "Physical-Systolic_BP                      -0.0075        nan        nan        nan         nan         nan\n",
      "Fitness_Endurance-Max_Stage               -0.0600        nan        nan        nan         nan         nan\n",
      "FGC-FGC_CU                                 0.0418        nan        nan        nan         nan         nan\n",
      "FGC-FGC_CU_Zone                            0.0685        nan        nan        nan         nan         nan\n",
      "FGC-FGC_GSND                               0.0152        nan        nan        nan         nan         nan\n",
      "FGC-FGC_GSND_Zone                         -0.0274        nan        nan        nan         nan         nan\n",
      "FGC-FGC_GSD                               -0.0272        nan        nan        nan         nan         nan\n",
      "FGC-FGC_GSD_Zone                           0.0041        nan        nan        nan         nan         nan\n",
      "FGC-FGC_PU                                -0.0240        nan        nan        nan         nan         nan\n",
      "FGC-FGC_PU_Zone                            0.0183        nan        nan        nan         nan         nan\n",
      "FGC-FGC_SRL                                0.0683        nan        nan        nan         nan         nan\n",
      "FGC-FGC_SRL_Zone                          -0.1636        nan        nan        nan         nan         nan\n",
      "FGC-FGC_SRR                                0.0132        nan        nan        nan         nan         nan\n",
      "FGC-FGC_SRR_Zone                           0.0649        nan        nan        nan         nan         nan\n",
      "FGC-FGC_TL                                 0.0644        nan        nan        nan         nan         nan\n",
      "FGC-FGC_TL_Zone                            0.0086        nan        nan        nan         nan         nan\n",
      "BIA-BIA_Activity_Level_num                -0.0032        nan        nan        nan         nan         nan\n",
      "BIA-BIA_BMC                                0.6162        nan        nan        nan         nan         nan\n",
      "BIA-BIA_BMI                               -0.0673        nan        nan        nan         nan         nan\n",
      "BIA-BIA_BMR                               -0.0196        nan        nan        nan         nan         nan\n",
      "BIA-BIA_DEE                                0.1740        nan        nan        nan         nan         nan\n",
      "BIA-BIA_ECW                                0.9054        nan        nan        nan         nan         nan\n",
      "BIA-BIA_FFM                               -0.0196        nan        nan        nan         nan         nan\n",
      "BIA-BIA_FFMI                               0.0539        nan        nan        nan         nan         nan\n",
      "BIA-BIA_FMI                               -0.0150        nan        nan        nan         nan         nan\n",
      "BIA-BIA_Fat                                0.6115        nan        nan        nan         nan         nan\n",
      "BIA-BIA_Frame_num                       9.005e-05        nan        nan        nan         nan         nan\n",
      "BIA-BIA_ICW                               -1.2485        nan        nan        nan         nan         nan\n",
      "BIA-BIA_LDM                                0.0016        nan        nan        nan         nan         nan\n",
      "BIA-BIA_LST                               -0.5465        nan        nan        nan         nan         nan\n",
      "BIA-BIA_SMM                                0.7280        nan        nan        nan         nan         nan\n",
      "BIA-BIA_TBW                               -0.0362        nan        nan        nan         nan         nan\n",
      "PAQ_C-PAQ_C_Total                          0.0095        nan        nan        nan         nan         nan\n",
      "SDS-SDS_Total_Raw                         -0.7560        nan        nan        nan         nan         nan\n",
      "SDS-SDS_Total_T                            1.0198        nan        nan        nan         nan         nan\n",
      "PreInt_EduHx-computerinternet_hoursday     0.2458        nan        nan        nan         nan         nan\n",
      "Basic_Demos-Enroll_Season_Fall            -0.0079        nan        nan        nan         nan         nan\n",
      "Basic_Demos-Enroll_Season_Spring          -0.0109        nan        nan        nan         nan         nan\n",
      "Basic_Demos-Enroll_Season_Summer          -0.0259        nan        nan        nan         nan         nan\n",
      "Basic_Demos-Enroll_Season_Winter           0.0446        nan        nan        nan         nan         nan\n",
      "0/1                                        0.2285        nan        nan        nan         nan         nan\n",
      "1/2                                        0.0200        nan        nan        nan         nan         nan\n",
      "2/3                                        0.3961        nan        nan        nan         nan         nan\n",
      "==========================================================================================================\n"
     ]
    },
    {
     "name": "stderr",
     "output_type": "stream",
     "text": [
      "c:\\Users\\Shayan\\anaconda3\\Lib\\site-packages\\statsmodels\\base\\model.py:595: HessianInversionWarning: Inverting hessian failed, no bse or cov_params available\n",
      "  warnings.warn('Inverting hessian failed, no bse or cov_params '\n"
     ]
    }
   ],
   "source": [
    "# Splitting the data into training and testing sets\n",
    "X_train, X_test, y_train, y_test = train_test_split(X, y, test_size=0.3, random_state=42)\n",
    "\n",
    "# Fitting the model\n",
    "model = OrderedModel(y_train, X_train, distr='probit')\n",
    "result = model.fit(method='bfgs')\n",
    "print(result.summary())"
   ]
  },
  {
   "cell_type": "code",
   "execution_count": 58,
   "metadata": {},
   "outputs": [
    {
     "name": "stdout",
     "output_type": "stream",
     "text": [
      "\n",
      "Classification Report:\n",
      "              precision    recall  f1-score   support\n",
      "\n",
      "           0       0.69      0.91      0.79       491\n",
      "           1       0.37      0.18      0.24       209\n",
      "           2       0.31      0.22      0.26       111\n",
      "           3       0.00      0.00      0.00        10\n",
      "\n",
      "    accuracy                           0.62       821\n",
      "   macro avg       0.34      0.33      0.32       821\n",
      "weighted avg       0.55      0.62      0.57       821\n",
      "\n",
      "Accuracy: 0.62\n"
     ]
    },
    {
     "name": "stderr",
     "output_type": "stream",
     "text": [
      "c:\\Users\\Shayan\\anaconda3\\Lib\\site-packages\\sklearn\\metrics\\_classification.py:1469: UndefinedMetricWarning: Precision and F-score are ill-defined and being set to 0.0 in labels with no predicted samples. Use `zero_division` parameter to control this behavior.\n",
      "  _warn_prf(average, modifier, msg_start, len(result))\n",
      "c:\\Users\\Shayan\\anaconda3\\Lib\\site-packages\\sklearn\\metrics\\_classification.py:1469: UndefinedMetricWarning: Precision and F-score are ill-defined and being set to 0.0 in labels with no predicted samples. Use `zero_division` parameter to control this behavior.\n",
      "  _warn_prf(average, modifier, msg_start, len(result))\n",
      "c:\\Users\\Shayan\\anaconda3\\Lib\\site-packages\\sklearn\\metrics\\_classification.py:1469: UndefinedMetricWarning: Precision and F-score are ill-defined and being set to 0.0 in labels with no predicted samples. Use `zero_division` parameter to control this behavior.\n",
      "  _warn_prf(average, modifier, msg_start, len(result))\n"
     ]
    }
   ],
   "source": [
    "# Making predictions\n",
    "predictions = result.predict(X_test)\n",
    "predicted_classes = predictions.idxmax(axis=1)  # The class with the highest predicted probability\n",
    "\n",
    "# Evaluate the model\n",
    "print(\"\\nClassification Report:\")\n",
    "print(classification_report(y_test, predicted_classes))\n",
    "print(f\"Accuracy: {accuracy_score(y_test, predicted_classes):.2f}\")"
   ]
  },
  {
   "cell_type": "code",
   "execution_count": null,
   "metadata": {},
   "outputs": [],
   "source": [
    "# Showing that random forest performs worse\n",
    "\n",
    "X = df.drop(columns=['sii'])\n",
    "y = df['sii']\n",
    "\n",
    "X_train, X_test, y_train, y_test = train_test_split(X, y, test_size=0.2, random_state=42)\n",
    "\n",
    "scaler = preprocessing.StandardScaler()\n",
    "X_train = scaler.fit_transform(X_train)\n",
    "X_test = scaler.transform(X_test)\n",
    "\n",
    "classifier = RandomForestClassifier(n_estimators = 10, criterion = 'entropy', random_state = 42)\n",
    "classifier.fit(X_train, y_train)\n",
    "y_pred = classifier.predict(X_test)"
   ]
  },
  {
   "cell_type": "code",
   "execution_count": 50,
   "metadata": {},
   "outputs": [
    {
     "data": {
      "text/plain": [
       "0.5886654478976234"
      ]
     },
     "execution_count": 50,
     "metadata": {},
     "output_type": "execute_result"
    }
   ],
   "source": [
    "accuracy_score(y_test, y_pred)"
   ]
  }
 ],
 "metadata": {
  "kernelspec": {
   "display_name": "base",
   "language": "python",
   "name": "python3"
  },
  "language_info": {
   "codemirror_mode": {
    "name": "ipython",
    "version": 3
   },
   "file_extension": ".py",
   "mimetype": "text/x-python",
   "name": "python",
   "nbconvert_exporter": "python",
   "pygments_lexer": "ipython3",
   "version": "3.11.5"
  }
 },
 "nbformat": 4,
 "nbformat_minor": 2
}
